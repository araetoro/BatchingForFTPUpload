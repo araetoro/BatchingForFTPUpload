{
 "cells": [
  {
   "cell_type": "code",
   "execution_count": 43,
   "metadata": {
    "collapsed": true
   },
   "outputs": [],
   "source": [
    "#importing the libraries\n",
    "import pandas as pd\n",
    "import math"
   ]
  },
  {
   "cell_type": "code",
   "execution_count": 21,
   "metadata": {
    "collapsed": true
   },
   "outputs": [],
   "source": [
    "df = pd.read_csv(\"DataFile.csv\")"
   ]
  },
  {
   "cell_type": "code",
   "execution_count": 22,
   "metadata": {
    "collapsed": true
   },
   "outputs": [],
   "source": [
    "#Saving your SiteCatalyst template headers to add to each batch slice\n",
    "header = df.iloc[:3,:]"
   ]
  },
  {
   "cell_type": "code",
   "execution_count": 24,
   "metadata": {
    "collapsed": true
   },
   "outputs": [],
   "source": [
    "#droping the tempalte headers before slicing\n",
    "df.drop([0,1,2], inplace=True)"
   ]
  },
  {
   "cell_type": "code",
   "execution_count": 45,
   "metadata": {
    "collapsed": true
   },
   "outputs": [],
   "source": [
    "#looping through the full data to create and save with template headers each batch slice\n",
    "x = 0\n",
    "y=1000\n",
    "batch = 3\n",
    "\n",
    "num_df_slices = math.ceil(len(df)/1000)\n",
    "\n",
    "for i in range(num_df_slices):\n",
    "    df_slice = df.iloc[x:y,:]\n",
    "    df_w_header = pd.concat([header,df_slice], ignore_index=True)\n",
    "    df_w_header.to_csv(\"touchpoints_batch{}.csv\".format(batch), \n",
    "                       header = [\"## SC\", \"SiteCatalyst\", \"v:x.x\", \"\", \"\", \"\", \"\", \"\", \"\", \"\", \"\", \"\", \"\", \"\", \"\", \"\", \"\", \"\", \"\", \"\", \"\", \"\", \"\", \"\", \"\", \"\"], index=False)\n",
    "    batch = batch+1\n",
    "    x=y\n",
    "    y=y+1000\n"
   ]
  },
  {
   "cell_type": "code",
   "execution_count": 51,
   "metadata": {
    "collapsed": true
   },
   "outputs": [],
   "source": [
    "#creating and saving a .fin txt file with matching name for each batch to finish the FTP client push\n",
    "num = 3\n",
    "for i in range(num_df_slices):\n",
    "    f= open(\"touchpoints_batch{}.fin\".format(num),\"w+\")\n",
    "    f.close()\n",
    "    num=num+1"
   ]
  },
  {
   "cell_type": "code",
   "execution_count": null,
   "metadata": {
    "collapsed": true
   },
   "outputs": [],
   "source": []
  }
 ],
 "metadata": {
  "kernelspec": {
   "display_name": "Python 3",
   "language": "python",
   "name": "python3"
  },
  "language_info": {
   "codemirror_mode": {
    "name": "ipython",
    "version": 3
   },
   "file_extension": ".py",
   "mimetype": "text/x-python",
   "name": "python",
   "nbconvert_exporter": "python",
   "pygments_lexer": "ipython3",
   "version": "3.7.3"
  }
 },
 "nbformat": 4,
 "nbformat_minor": 2
}
